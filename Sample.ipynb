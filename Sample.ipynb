{
 "cells": [
  {
   "cell_type": "markdown",
   "id": "6b152e91-5184-47a9-994e-1ef670f1d4fc",
   "metadata": {},
   "source": [
    "## Walkthru sample notebookl\n"
   ]
  },
  {
   "cell_type": "markdown",
   "id": "79442615-849f-446c-9871-16a64b8fc663",
   "metadata": {},
   "source": [
    "Here is how to calculate `1+1`:\n"
   ]
  },
  {
   "cell_type": "code",
   "execution_count": 1,
   "id": "7a595d01-f663-4b36-bae4-6b5760be801d",
   "metadata": {
    "tags": []
   },
   "outputs": [
    {
     "data": {
      "text/plain": [
       "2"
      ]
     },
     "execution_count": 1,
     "metadata": {},
     "output_type": "execute_result"
    }
   ],
   "source": [
    "1+1"
   ]
  },
  {
   "cell_type": "code",
   "execution_count": 2,
   "id": "e64877df-9742-4203-86a7-1cb85b927ac7",
   "metadata": {
    "tags": []
   },
   "outputs": [],
   "source": [
    "import numpy as np"
   ]
  },
  {
   "cell_type": "markdown",
   "id": "18e8836b-a3cf-4884-935c-b2fa77d6c677",
   "metadata": {},
   "source": [
    "here is an example fo using the `sin` function:"
   ]
  },
  {
   "cell_type": "code",
   "execution_count": 3,
   "id": "dc42899f-83f6-4b75-a71b-3235e676dcc4",
   "metadata": {
    "tags": []
   },
   "outputs": [
    {
     "data": {
      "text/plain": [
       "array([0.84147098, 1.        ])"
      ]
     },
     "execution_count": 3,
     "metadata": {},
     "output_type": "execute_result"
    }
   ],
   "source": [
    "a = np.array([1.0, np.pi/2])\n",
    "np.sin(a)"
   ]
  },
  {
   "cell_type": "code",
   "execution_count": null,
   "id": "d38edc00-bc9e-4412-aad0-b852347b2397",
   "metadata": {},
   "outputs": [],
   "source": []
  }
 ],
 "metadata": {
  "kernelspec": {
   "display_name": "Python 3 (ipykernel)",
   "language": "python",
   "name": "python3"
  },
  "language_info": {
   "codemirror_mode": {
    "name": "ipython",
    "version": 3
   },
   "file_extension": ".py",
   "mimetype": "text/x-python",
   "name": "python",
   "nbconvert_exporter": "python",
   "pygments_lexer": "ipython3",
   "version": "3.10.10"
  }
 },
 "nbformat": 4,
 "nbformat_minor": 5
}
